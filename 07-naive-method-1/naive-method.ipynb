{
 "cells": [
  {
   "cell_type": "markdown",
   "metadata": {},
   "source": [
    "# 朴素预测方法1\n",
    "\n",
    "\n",
    "从简单的方法开始考虑以下图。假设y轴代表硬币的价格（或是销量)，x轴代表时间（天）。\n",
    "\n",
    "![Start with a Naive Approach](https://cdn.analyticsvidhya.com/wp-content/uploads/2018/02/naive_new-768x495.png)\n",
    "\n",
    "我们可以从图中推断出价格从一开始就是稳定的。很多时候，我们会获得一个数据集，该数据集在整个时间段内都是稳定的。如果我们要预测第二天的价格，我们可以简单地获取最后一天的价格\n",
    "并估算第二天的价格。这种将下一个预期点等于最后一个观测点的预测技术称为朴素预测方法。\n",
    "\n",
    "### Naive Method - 朴素预测方法\n",
    "\n",
    "Peter注：大家看到这种办法不要觉得好笑，现在情况下预测第二天股价用这种办法是最偏差最小的办法之一，因为你没有办法知道明天会发生什么。\n",
    " \n",
    "\n",
    "\n"
   ]
  },
  {
   "cell_type": "markdown",
   "metadata": {},
   "source": [
    "## 读取数据\n",
    "* 我们还是会使用澳洲空乘数据\n"
   ]
  },
  {
   "cell_type": "code",
   "execution_count": 1,
   "metadata": {},
   "outputs": [
    {
     "data": {
      "text/html": [
       "<div>\n",
       "<style scoped>\n",
       "    .dataframe tbody tr th:only-of-type {\n",
       "        vertical-align: middle;\n",
       "    }\n",
       "\n",
       "    .dataframe tbody tr th {\n",
       "        vertical-align: top;\n",
       "    }\n",
       "\n",
       "    .dataframe thead th {\n",
       "        text-align: right;\n",
       "    }\n",
       "</style>\n",
       "<table border=\"1\" class=\"dataframe\">\n",
       "  <thead>\n",
       "    <tr style=\"text-align: right;\">\n",
       "      <th></th>\n",
       "      <th>Passengers</th>\n",
       "    </tr>\n",
       "    <tr>\n",
       "      <th>Month</th>\n",
       "      <th></th>\n",
       "    </tr>\n",
       "  </thead>\n",
       "  <tbody>\n",
       "    <tr>\n",
       "      <th>1949-01-01</th>\n",
       "      <td>112</td>\n",
       "    </tr>\n",
       "    <tr>\n",
       "      <th>1949-02-01</th>\n",
       "      <td>118</td>\n",
       "    </tr>\n",
       "    <tr>\n",
       "      <th>1949-03-01</th>\n",
       "      <td>132</td>\n",
       "    </tr>\n",
       "    <tr>\n",
       "      <th>1949-04-01</th>\n",
       "      <td>129</td>\n",
       "    </tr>\n",
       "    <tr>\n",
       "      <th>1949-05-01</th>\n",
       "      <td>121</td>\n",
       "    </tr>\n",
       "  </tbody>\n",
       "</table>\n",
       "</div>"
      ],
      "text/plain": [
       "            Passengers\n",
       "Month                 \n",
       "1949-01-01         112\n",
       "1949-02-01         118\n",
       "1949-03-01         132\n",
       "1949-04-01         129\n",
       "1949-05-01         121"
      ]
     },
     "execution_count": 1,
     "metadata": {},
     "output_type": "execute_result"
    }
   ],
   "source": [
    "import pandas as pd\n",
    "import numpy as np\n",
    "from datetime import datetime\n",
    "\n",
    "# url = \"../data/AirPassengers.csv\" 如果把这个仓库下载后可以使用这个地址\n",
    "# 如果后面有发现文件读不出来，可以自己手工把 .. 换成 https://raw.githubusercontent.com/liuhui998/time-series-little-book/master\n",
    "# 但是这需要挂了 VPN, 因为课件还在开发过程中，大家多包涵\n",
    "url = \"../data/AirPassengers.csv\"\n",
    "dateparse = lambda dates: datetime.strptime(dates, '%Y-%m')\n",
    "data = pd.read_csv(url, parse_dates=['Month'], index_col='Month',date_parser=dateparse)\n",
    "data.head()"
   ]
  },
  {
   "cell_type": "markdown",
   "metadata": {},
   "source": [
    "##  训练集与测度集\n",
    "* 数据拆分为两类：较大规模的训练数据集和较小规模的测试数据集\n",
    "  * 训练集 - 用于训练模型的子集。\n",
    "  * 测试集 - 用于测试训练后模型的子集。\n",
    "  \n",
    "    您可以想象按如下方式拆分单个数据集：\n",
    "    ![](../images/PartitionTwoSets.svg?hl=zh-cn)\n",
    "    \n",
    "* 为什么要分训练集和测试集\n",
    "\n",
    "  因为未来的事情还没有发生，只有抽出有一段数据做测试数据，这样才能确认模型的性能\n",
    "  \n",
    "  \n",
    "  \n",
    "* 怎么切分训练集与测试集\n",
    "\n",
    "  对于时间序列一般是选取一个周期的数据（比如12个月或是1周), 但是训练集和测试集一定要分开\n",
    "  \n",
    "  一般训练数数据叫 train, 测试数据叫 test"
   ]
  },
  {
   "cell_type": "code",
   "execution_count": 2,
   "metadata": {},
   "outputs": [
    {
     "name": "stdout",
     "output_type": "stream",
     "text": [
      "(132, 1)\n",
      "(12, 1)\n"
     ]
    }
   ],
   "source": [
    "# 因为周期为 12个月，test_num 就为12\n",
    "test_num = 12 \n",
    "train = data.iloc[0:-test_num,:]\n",
    "print(train.shape)\n",
    "test = data.iloc[-test_num:,:]\n",
    "print(test.shape)"
   ]
  },
  {
   "cell_type": "code",
   "execution_count": 3,
   "metadata": {},
   "outputs": [
    {
     "data": {
      "text/html": [
       "<div>\n",
       "<style scoped>\n",
       "    .dataframe tbody tr th:only-of-type {\n",
       "        vertical-align: middle;\n",
       "    }\n",
       "\n",
       "    .dataframe tbody tr th {\n",
       "        vertical-align: top;\n",
       "    }\n",
       "\n",
       "    .dataframe thead th {\n",
       "        text-align: right;\n",
       "    }\n",
       "</style>\n",
       "<table border=\"1\" class=\"dataframe\">\n",
       "  <thead>\n",
       "    <tr style=\"text-align: right;\">\n",
       "      <th></th>\n",
       "      <th>Passengers</th>\n",
       "    </tr>\n",
       "    <tr>\n",
       "      <th>Month</th>\n",
       "      <th></th>\n",
       "    </tr>\n",
       "  </thead>\n",
       "  <tbody>\n",
       "    <tr>\n",
       "      <th>1949-01-01</th>\n",
       "      <td>112</td>\n",
       "    </tr>\n",
       "    <tr>\n",
       "      <th>1949-02-01</th>\n",
       "      <td>118</td>\n",
       "    </tr>\n",
       "    <tr>\n",
       "      <th>1949-03-01</th>\n",
       "      <td>132</td>\n",
       "    </tr>\n",
       "    <tr>\n",
       "      <th>1949-04-01</th>\n",
       "      <td>129</td>\n",
       "    </tr>\n",
       "    <tr>\n",
       "      <th>1949-05-01</th>\n",
       "      <td>121</td>\n",
       "    </tr>\n",
       "  </tbody>\n",
       "</table>\n",
       "</div>"
      ],
      "text/plain": [
       "            Passengers\n",
       "Month                 \n",
       "1949-01-01         112\n",
       "1949-02-01         118\n",
       "1949-03-01         132\n",
       "1949-04-01         129\n",
       "1949-05-01         121"
      ]
     },
     "execution_count": 3,
     "metadata": {},
     "output_type": "execute_result"
    }
   ],
   "source": [
    "train.head()"
   ]
  },
  {
   "cell_type": "markdown",
   "metadata": {},
   "source": [
    "### 组合预测数据\n",
    "* 将 train,test 拼到一个 fcst_df\n",
    "* 然后将 train, test 画出来\n",
    "* 大家想像一下，只有 train, 来预测 test 的情况"
   ]
  },
  {
   "cell_type": "code",
   "execution_count": 4,
   "metadata": {},
   "outputs": [
    {
     "data": {
      "text/html": [
       "<div>\n",
       "<style scoped>\n",
       "    .dataframe tbody tr th:only-of-type {\n",
       "        vertical-align: middle;\n",
       "    }\n",
       "\n",
       "    .dataframe tbody tr th {\n",
       "        vertical-align: top;\n",
       "    }\n",
       "\n",
       "    .dataframe thead th {\n",
       "        text-align: right;\n",
       "    }\n",
       "</style>\n",
       "<table border=\"1\" class=\"dataframe\">\n",
       "  <thead>\n",
       "    <tr style=\"text-align: right;\">\n",
       "      <th></th>\n",
       "      <th>train</th>\n",
       "      <th>test</th>\n",
       "    </tr>\n",
       "  </thead>\n",
       "  <tbody>\n",
       "    <tr>\n",
       "      <th>count</th>\n",
       "      <td>132.000000</td>\n",
       "      <td>12.000000</td>\n",
       "    </tr>\n",
       "    <tr>\n",
       "      <th>mean</th>\n",
       "      <td>262.492424</td>\n",
       "      <td>476.166667</td>\n",
       "    </tr>\n",
       "    <tr>\n",
       "      <th>std</th>\n",
       "      <td>106.625799</td>\n",
       "      <td>77.737125</td>\n",
       "    </tr>\n",
       "    <tr>\n",
       "      <th>min</th>\n",
       "      <td>104.000000</td>\n",
       "      <td>390.000000</td>\n",
       "    </tr>\n",
       "    <tr>\n",
       "      <th>25%</th>\n",
       "      <td>176.500000</td>\n",
       "      <td>418.500000</td>\n",
       "    </tr>\n",
       "    <tr>\n",
       "      <th>50%</th>\n",
       "      <td>239.500000</td>\n",
       "      <td>461.000000</td>\n",
       "    </tr>\n",
       "    <tr>\n",
       "      <th>75%</th>\n",
       "      <td>343.250000</td>\n",
       "      <td>514.750000</td>\n",
       "    </tr>\n",
       "    <tr>\n",
       "      <th>max</th>\n",
       "      <td>559.000000</td>\n",
       "      <td>622.000000</td>\n",
       "    </tr>\n",
       "  </tbody>\n",
       "</table>\n",
       "</div>"
      ],
      "text/plain": [
       "            train        test\n",
       "count  132.000000   12.000000\n",
       "mean   262.492424  476.166667\n",
       "std    106.625799   77.737125\n",
       "min    104.000000  390.000000\n",
       "25%    176.500000  418.500000\n",
       "50%    239.500000  461.000000\n",
       "75%    343.250000  514.750000\n",
       "max    559.000000  622.000000"
      ]
     },
     "execution_count": 4,
     "metadata": {},
     "output_type": "execute_result"
    }
   ],
   "source": [
    "fcst_df = pd.DataFrame({\n",
    "    'train': train['Passengers'],\n",
    "    'test' : test['Passengers']\n",
    "})\n",
    "fcst_df.describe()"
   ]
  },
  {
   "cell_type": "code",
   "execution_count": 5,
   "metadata": {},
   "outputs": [
    {
     "data": {
      "image/svg+xml": [
       "<svg class=\"main-svg\" xmlns=\"http://www.w3.org/2000/svg\" xmlns:xlink=\"http://www.w3.org/1999/xlink\" width=\"700\" height=\"450\" style=\"\" viewBox=\"0 0 700 450\"><rect x=\"0\" y=\"0\" width=\"700\" height=\"450\" style=\"fill: rgb(245, 246, 249); fill-opacity: 1;\"/><defs id=\"defs-4caa4c\"><g class=\"clips\"><clipPath id=\"clip4caa4cxyplot\" class=\"plotclip\"><rect width=\"525\" height=\"270\"/></clipPath><clipPath class=\"axesclip\" id=\"clip4caa4cx\"><rect x=\"80\" y=\"0\" width=\"525\" height=\"450\"/></clipPath><clipPath class=\"axesclip\" id=\"clip4caa4cy\"><rect x=\"0\" y=\"100\" width=\"700\" height=\"270\"/></clipPath><clipPath class=\"axesclip\" id=\"clip4caa4cxy\"><rect x=\"80\" y=\"100\" width=\"525\" height=\"270\"/></clipPath></g><g class=\"gradients\"/></defs><g class=\"bglayer\"/><g class=\"layer-below\"><g class=\"imagelayer\"/><g class=\"shapelayer\"/></g><g class=\"cartesianlayer\"><g class=\"subplot xy\"><g class=\"layer-subplot\"><g class=\"shapelayer\"/><g class=\"imagelayer\"/></g><g class=\"gridlayer\"><g class=\"x\"><path class=\"xgrid crisp\" transform=\"translate(124.03,0)\" d=\"M0,100v270\" style=\"stroke: rgb(225, 229, 237); stroke-opacity: 1; stroke-width: 1px;\"/><path class=\"xgrid crisp\" transform=\"translate(212.09,0)\" d=\"M0,100v270\" style=\"stroke: rgb(225, 229, 237); stroke-opacity: 1; stroke-width: 1px;\"/><path class=\"xgrid crisp\" transform=\"translate(300.28,0)\" d=\"M0,100v270\" style=\"stroke: rgb(225, 229, 237); stroke-opacity: 1; stroke-width: 1px;\"/><path class=\"xgrid crisp\" transform=\"translate(388.34,0)\" d=\"M0,100v270\" style=\"stroke: rgb(225, 229, 237); stroke-opacity: 1; stroke-width: 1px;\"/><path class=\"xgrid crisp\" transform=\"translate(476.52,0)\" d=\"M0,100v270\" style=\"stroke: rgb(225, 229, 237); stroke-opacity: 1; stroke-width: 1px;\"/><path class=\"xgrid crisp\" transform=\"translate(564.5899999999999,0)\" d=\"M0,100v270\" style=\"stroke: rgb(225, 229, 237); stroke-opacity: 1; stroke-width: 1px;\"/></g><g class=\"y\"><path class=\"ygrid crisp\" transform=\"translate(0,358.38)\" d=\"M80,0h525\" style=\"stroke: rgb(225, 229, 237); stroke-opacity: 1; stroke-width: 1px;\"/><path class=\"ygrid crisp\" transform=\"translate(0,311.47)\" d=\"M80,0h525\" style=\"stroke: rgb(225, 229, 237); stroke-opacity: 1; stroke-width: 1px;\"/><path class=\"ygrid crisp\" transform=\"translate(0,264.55)\" d=\"M80,0h525\" style=\"stroke: rgb(225, 229, 237); stroke-opacity: 1; stroke-width: 1px;\"/><path class=\"ygrid crisp\" transform=\"translate(0,217.64)\" d=\"M80,0h525\" style=\"stroke: rgb(225, 229, 237); stroke-opacity: 1; stroke-width: 1px;\"/><path class=\"ygrid crisp\" transform=\"translate(0,170.73000000000002)\" d=\"M80,0h525\" style=\"stroke: rgb(225, 229, 237); stroke-opacity: 1; stroke-width: 1px;\"/><path class=\"ygrid crisp\" transform=\"translate(0,123.82)\" d=\"M80,0h525\" style=\"stroke: rgb(225, 229, 237); stroke-opacity: 1; stroke-width: 1px;\"/></g></g><g class=\"zerolinelayer\"/><path class=\"xlines-below\"/><path class=\"ylines-below\"/><g class=\"overlines-below\"/><g class=\"xaxislayer-below\"/><g class=\"yaxislayer-below\"/><g class=\"overaxes-below\"/><g class=\"plot\" transform=\"translate(80, 100)\" clip-path=\"url('#clip4caa4cxyplot')\"><g class=\"scatterlayer mlayer\"><g class=\"trace scatter tracefb4c19\" style=\"stroke-miterlimit: 2; opacity: 1;\"><g class=\"fills\"/><g class=\"errorbars\"/><g class=\"lines\"><path class=\"js-line\" d=\"M0,252.75L3.74,249.93L7.12,243.36L10.86,244.77L14.48,248.53L21.83,235.86L25.57,235.86L29.31,241.49L32.93,249.46L36.67,256.5L40.29,249.93L44.03,251.34L47.77,246.18L51.15,239.14L54.89,241.96L58.51,246.65L62.25,235.39L65.87,225.54L69.61,225.54L73.35,231.17L76.96,242.9L80.7,251.81L84.32,239.61L91.8,234.92L95.18,221.79L98.92,228.82L102.54,224.6L106.28,221.79L109.9,211.93L113.64,211.93L117.38,218.97L121,229.29L124.74,236.8L128.35,227.42L132.09,225.07L135.83,220.85L139.33,214.75L143.07,220.38L146.69,219.44L150.43,203.02L154.05,197.39L157.79,191.76L161.53,207.24L168.89,224.6L172.51,214.28L176.25,213.34L179.99,213.34L183.36,194.58L187.1,195.05L190.72,197.86L194.46,191.29L198.08,181.44L201.82,177.69L205.56,194.11L209.18,206.31L212.92,220.85L216.54,211L220.28,209.59L224.02,217.09L227.4,195.05L231.14,198.8L234.75,195.52L238.49,181.44L242.11,163.62L245.85,167.84L253.21,197.86L256.95,210.06L260.57,197.86L264.31,191.76L268.05,195.98L271.43,180.03L278.79,178.63L282.53,157.52L286.14,134.53L289.88,142.51L300.98,194.11L304.6,174.87L308.34,172.06L312.08,175.34L315.58,156.58L319.32,158.46L322.94,156.11L326.68,129.84L330.3,111.54L334.04,115.3L341.39,161.74L345.13,178.16L348.75,161.74L352.49,157.52L356.23,164.08L359.61,138.28L363.35,142.04L366.97,138.75L370.71,107.32L374.33,87.15L378.07,86.21L381.81,115.77L385.43,142.51L389.17,162.21L392.78,147.67L396.52,145.79L400.26,156.11L403.64,135.47L407.38,142.04L411,135L418.36,74.95L422.1,68.39L425.84,115.77L429.46,136.88L433.2,159.86L436.82,147.2L440.56,136.41L444.3,144.85L447.67,114.83L451.41,119.52L455.03,108.26L458.77,83.87L462.39,48.21L466.13,43.05L469.87,88.09L473.49,114.36L477.23,135.47L480.85,115.3\" style=\"vector-effect: non-scaling-stroke; fill: none; stroke: rgb(255, 153, 51); stroke-opacity: 1; stroke-width: 1.3px; opacity: 1;\"/></g><g class=\"points\"/><g class=\"text\"/></g><g class=\"trace scatter trace42ee3e\" style=\"stroke-miterlimit: 2; opacity: 1;\"><g class=\"fills\"/><g class=\"errorbars\"/><g class=\"lines\"><path class=\"js-line\" d=\"M484.59,109.67L488.33,121.86L491.83,108.73L495.57,89.03L499.18,83.87L502.92,54.31L506.54,13.5L510.28,21.01L514.02,66.98L517.64,89.03L521.38,122.33L525,102.63\" style=\"vector-effect: non-scaling-stroke; fill: none; stroke: rgb(55, 128, 191); stroke-opacity: 1; stroke-width: 1.3px; opacity: 1;\"/></g><g class=\"points\"/><g class=\"text\"/></g></g></g><g class=\"overplot\"/><path class=\"xlines-above crisp\" style=\"fill: none;\" d=\"M0,0\"/><path class=\"ylines-above crisp\" style=\"fill: none;\" d=\"M0,0\"/><g class=\"overlines-above\"/><g class=\"xaxislayer-above\"><g class=\"xtick\"><text text-anchor=\"middle\" x=\"0\" y=\"383\" transform=\"translate(124.03,0)\" style=\"font-family: 'Open Sans', verdana, arial, sans-serif; font-size: 12px; fill: rgb(77, 86, 99); fill-opacity: 1; white-space: pre;\">1950</text></g><g class=\"xtick\"><text text-anchor=\"middle\" x=\"0\" y=\"383\" transform=\"translate(212.09,0)\" style=\"font-family: 'Open Sans', verdana, arial, sans-serif; font-size: 12px; fill: rgb(77, 86, 99); fill-opacity: 1; white-space: pre;\">1952</text></g><g class=\"xtick\"><text text-anchor=\"middle\" x=\"0\" y=\"383\" transform=\"translate(300.28,0)\" style=\"font-family: 'Open Sans', verdana, arial, sans-serif; font-size: 12px; fill: rgb(77, 86, 99); fill-opacity: 1; white-space: pre;\">1954</text></g><g class=\"xtick\"><text text-anchor=\"middle\" x=\"0\" y=\"383\" transform=\"translate(388.34,0)\" style=\"font-family: 'Open Sans', verdana, arial, sans-serif; font-size: 12px; fill: rgb(77, 86, 99); fill-opacity: 1; white-space: pre;\">1956</text></g><g class=\"xtick\"><text text-anchor=\"middle\" x=\"0\" y=\"383\" transform=\"translate(476.52,0)\" style=\"font-family: 'Open Sans', verdana, arial, sans-serif; font-size: 12px; fill: rgb(77, 86, 99); fill-opacity: 1; white-space: pre;\">1958</text></g><g class=\"xtick\"><text text-anchor=\"middle\" x=\"0\" y=\"383\" transform=\"translate(564.5899999999999,0)\" style=\"font-family: 'Open Sans', verdana, arial, sans-serif; font-size: 12px; fill: rgb(77, 86, 99); fill-opacity: 1; white-space: pre;\">1960</text></g></g><g class=\"yaxislayer-above\"><g class=\"ytick\"><text text-anchor=\"end\" x=\"79\" y=\"4.199999999999999\" transform=\"translate(0,358.38)\" style=\"font-family: 'Open Sans', verdana, arial, sans-serif; font-size: 12px; fill: rgb(77, 86, 99); fill-opacity: 1; white-space: pre;\">100</text></g><g class=\"ytick\"><text text-anchor=\"end\" x=\"79\" y=\"4.199999999999999\" transform=\"translate(0,311.47)\" style=\"font-family: 'Open Sans', verdana, arial, sans-serif; font-size: 12px; fill: rgb(77, 86, 99); fill-opacity: 1; white-space: pre;\">200</text></g><g class=\"ytick\"><text text-anchor=\"end\" x=\"79\" y=\"4.199999999999999\" transform=\"translate(0,264.55)\" style=\"font-family: 'Open Sans', verdana, arial, sans-serif; font-size: 12px; fill: rgb(77, 86, 99); fill-opacity: 1; white-space: pre;\">300</text></g><g class=\"ytick\"><text text-anchor=\"end\" x=\"79\" y=\"4.199999999999999\" transform=\"translate(0,217.64)\" style=\"font-family: 'Open Sans', verdana, arial, sans-serif; font-size: 12px; fill: rgb(77, 86, 99); fill-opacity: 1; white-space: pre;\">400</text></g><g class=\"ytick\"><text text-anchor=\"end\" x=\"79\" y=\"4.199999999999999\" transform=\"translate(0,170.73000000000002)\" style=\"font-family: 'Open Sans', verdana, arial, sans-serif; font-size: 12px; fill: rgb(77, 86, 99); fill-opacity: 1; white-space: pre;\">500</text></g><g class=\"ytick\"><text text-anchor=\"end\" x=\"79\" y=\"4.199999999999999\" transform=\"translate(0,123.82)\" style=\"font-family: 'Open Sans', verdana, arial, sans-serif; font-size: 12px; fill: rgb(77, 86, 99); fill-opacity: 1; white-space: pre;\">600</text></g></g><g class=\"overaxes-above\"/></g></g><g class=\"polarlayer\"/><g class=\"ternarylayer\"/><g class=\"geolayer\"/><g class=\"funnelarealayer\"/><g class=\"pielayer\"/><g class=\"treemaplayer\"/><g class=\"sunburstlayer\"/><g class=\"glimages\"/><defs id=\"topdefs-4caa4c\"><g class=\"clips\"/><clipPath id=\"legend4caa4c\"><rect width=\"73\" height=\"48\" x=\"0\" y=\"0\"/></clipPath></defs><g class=\"layer-above\"><g class=\"imagelayer\"/><g class=\"shapelayer\"/></g><g class=\"infolayer\"><g class=\"legend\" pointer-events=\"all\" transform=\"translate(615.5, 100)\"><rect class=\"bg\" shape-rendering=\"crispEdges\" style=\"stroke: rgb(68, 68, 68); stroke-opacity: 1; fill: rgb(245, 246, 249); fill-opacity: 1; stroke-width: 0px;\" width=\"73\" height=\"48\" x=\"0\" y=\"0\"/><g class=\"scrollbox\" transform=\"translate(0, 0)\" clip-path=\"url('#legend4caa4c')\"><g class=\"groups\"><g class=\"traces\" style=\"opacity: 1;\" transform=\"translate(0, 14.5)\"><text class=\"legendtext user-select-none\" text-anchor=\"start\" x=\"40\" y=\"4.680000000000001\" style=\"font-family: 'Open Sans', verdana, arial, sans-serif; font-size: 12px; fill: rgb(77, 86, 99); fill-opacity: 1; white-space: pre;\">train</text><g class=\"layers\" style=\"opacity: 1;\"><g class=\"legendfill\"/><g class=\"legendlines\"><path class=\"js-line\" d=\"M5,0h30\" style=\"fill: none; stroke: rgb(255, 153, 51); stroke-opacity: 1; stroke-width: 1.3px;\"/></g><g class=\"legendsymbols\"><g class=\"legendpoints\"/></g></g><rect class=\"legendtoggle\" pointer-events=\"all\" x=\"0\" y=\"-9.5\" width=\"67.953125\" height=\"19\" style=\"cursor: pointer; fill: rgb(0, 0, 0); fill-opacity: 0;\"/></g><g class=\"traces\" style=\"opacity: 1;\" transform=\"translate(0, 33.5)\"><text class=\"legendtext user-select-none\" text-anchor=\"start\" x=\"40\" y=\"4.680000000000001\" style=\"font-family: 'Open Sans', verdana, arial, sans-serif; font-size: 12px; fill: rgb(77, 86, 99); fill-opacity: 1; white-space: pre;\">test</text><g class=\"layers\" style=\"opacity: 1;\"><g class=\"legendfill\"/><g class=\"legendlines\"><path class=\"js-line\" d=\"M5,0h30\" style=\"fill: none; stroke: rgb(55, 128, 191); stroke-opacity: 1; stroke-width: 1.3px;\"/></g><g class=\"legendsymbols\"><g class=\"legendpoints\"/></g></g><rect class=\"legendtoggle\" pointer-events=\"all\" x=\"0\" y=\"-9.5\" width=\"67.953125\" height=\"19\" style=\"cursor: pointer; fill: rgb(0, 0, 0); fill-opacity: 0;\"/></g></g></g><rect class=\"scrollbar\" rx=\"20\" ry=\"3\" width=\"0\" height=\"0\" style=\"fill: rgb(128, 139, 164); fill-opacity: 1;\" x=\"0\" y=\"0\"/></g><g class=\"g-gtitle\"/><g class=\"g-xtitle\"/><g class=\"g-ytitle\"/></g></svg>"
      ]
     },
     "metadata": {},
     "output_type": "display_data"
    }
   ],
   "source": [
    "import cufflinks as cf\n",
    "fcst_fig = fcst_df.iplot(asFigure = True)\n",
    "fcst_fig.show('svg')"
   ]
  },
  {
   "cell_type": "markdown",
   "metadata": {},
   "source": [
    "### 使用 简单（Navie） 方法进行预测\n",
    "* 以 train 最后一条记录为预测值\n",
    "* 把预测值放到 fcst_df\n",
    "* 在可视化环节，大家可以多思考一下"
   ]
  },
  {
   "cell_type": "code",
   "execution_count": 6,
   "metadata": {},
   "outputs": [
    {
     "data": {
      "text/plain": [
       "Month\n",
       "1960-01-01    405\n",
       "1960-02-01    405\n",
       "1960-03-01    405\n",
       "1960-04-01    405\n",
       "1960-05-01    405\n",
       "1960-06-01    405\n",
       "1960-07-01    405\n",
       "1960-08-01    405\n",
       "1960-09-01    405\n",
       "1960-10-01    405\n",
       "1960-11-01    405\n",
       "1960-12-01    405\n",
       "dtype: int64"
      ]
     },
     "execution_count": 6,
     "metadata": {},
     "output_type": "execute_result"
    }
   ],
   "source": [
    "\n",
    "last_value = train.iloc[-1,:]['Passengers']\n",
    "fcst_series = pd.Series(last_value,index = test.index)\n",
    "fcst_series"
   ]
  },
  {
   "cell_type": "code",
   "execution_count": 7,
   "metadata": {},
   "outputs": [],
   "source": [
    "fcst_df['fcst'] = fcst_series"
   ]
  },
  {
   "cell_type": "code",
   "execution_count": 8,
   "metadata": {},
   "outputs": [
    {
     "data": {
      "image/svg+xml": [
       "<svg class=\"main-svg\" xmlns=\"http://www.w3.org/2000/svg\" xmlns:xlink=\"http://www.w3.org/1999/xlink\" width=\"700\" height=\"450\" style=\"\" viewBox=\"0 0 700 450\"><rect x=\"0\" y=\"0\" width=\"700\" height=\"450\" style=\"fill: rgb(245, 246, 249); fill-opacity: 1;\"/><defs id=\"defs-bee558\"><g class=\"clips\"><clipPath id=\"clipbee558xyplot\" class=\"plotclip\"><rect width=\"525\" height=\"270\"/></clipPath><clipPath class=\"axesclip\" id=\"clipbee558x\"><rect x=\"80\" y=\"0\" width=\"525\" height=\"450\"/></clipPath><clipPath class=\"axesclip\" id=\"clipbee558y\"><rect x=\"0\" y=\"100\" width=\"700\" height=\"270\"/></clipPath><clipPath class=\"axesclip\" id=\"clipbee558xy\"><rect x=\"80\" y=\"100\" width=\"525\" height=\"270\"/></clipPath></g><g class=\"gradients\"/></defs><g class=\"bglayer\"/><g class=\"layer-below\"><g class=\"imagelayer\"/><g class=\"shapelayer\"/></g><g class=\"cartesianlayer\"><g class=\"subplot xy\"><g class=\"layer-subplot\"><g class=\"shapelayer\"/><g class=\"imagelayer\"/></g><g class=\"gridlayer\"><g class=\"x\"><path class=\"xgrid crisp\" transform=\"translate(124.03,0)\" d=\"M0,100v270\" style=\"stroke: rgb(225, 229, 237); stroke-opacity: 1; stroke-width: 1px;\"/><path class=\"xgrid crisp\" transform=\"translate(212.09,0)\" d=\"M0,100v270\" style=\"stroke: rgb(225, 229, 237); stroke-opacity: 1; stroke-width: 1px;\"/><path class=\"xgrid crisp\" transform=\"translate(300.28,0)\" d=\"M0,100v270\" style=\"stroke: rgb(225, 229, 237); stroke-opacity: 1; stroke-width: 1px;\"/><path class=\"xgrid crisp\" transform=\"translate(388.34,0)\" d=\"M0,100v270\" style=\"stroke: rgb(225, 229, 237); stroke-opacity: 1; stroke-width: 1px;\"/><path class=\"xgrid crisp\" transform=\"translate(476.52,0)\" d=\"M0,100v270\" style=\"stroke: rgb(225, 229, 237); stroke-opacity: 1; stroke-width: 1px;\"/><path class=\"xgrid crisp\" transform=\"translate(564.5899999999999,0)\" d=\"M0,100v270\" style=\"stroke: rgb(225, 229, 237); stroke-opacity: 1; stroke-width: 1px;\"/></g><g class=\"y\"><path class=\"ygrid crisp\" transform=\"translate(0,358.38)\" d=\"M80,0h525\" style=\"stroke: rgb(225, 229, 237); stroke-opacity: 1; stroke-width: 1px;\"/><path class=\"ygrid crisp\" transform=\"translate(0,311.47)\" d=\"M80,0h525\" style=\"stroke: rgb(225, 229, 237); stroke-opacity: 1; stroke-width: 1px;\"/><path class=\"ygrid crisp\" transform=\"translate(0,264.55)\" d=\"M80,0h525\" style=\"stroke: rgb(225, 229, 237); stroke-opacity: 1; stroke-width: 1px;\"/><path class=\"ygrid crisp\" transform=\"translate(0,217.64)\" d=\"M80,0h525\" style=\"stroke: rgb(225, 229, 237); stroke-opacity: 1; stroke-width: 1px;\"/><path class=\"ygrid crisp\" transform=\"translate(0,170.73000000000002)\" d=\"M80,0h525\" style=\"stroke: rgb(225, 229, 237); stroke-opacity: 1; stroke-width: 1px;\"/><path class=\"ygrid crisp\" transform=\"translate(0,123.82)\" d=\"M80,0h525\" style=\"stroke: rgb(225, 229, 237); stroke-opacity: 1; stroke-width: 1px;\"/></g></g><g class=\"zerolinelayer\"/><path class=\"xlines-below\"/><path class=\"ylines-below\"/><g class=\"overlines-below\"/><g class=\"xaxislayer-below\"/><g class=\"yaxislayer-below\"/><g class=\"overaxes-below\"/><g class=\"plot\" transform=\"translate(80, 100)\" clip-path=\"url('#clipbee558xyplot')\"><g class=\"scatterlayer mlayer\"><g class=\"trace scatter tracebb70cd\" style=\"stroke-miterlimit: 2; opacity: 1;\"><g class=\"fills\"/><g class=\"errorbars\"/><g class=\"lines\"><path class=\"js-line\" d=\"M0,252.75L3.74,249.93L7.12,243.36L10.86,244.77L14.48,248.53L21.83,235.86L25.57,235.86L29.31,241.49L32.93,249.46L36.67,256.5L40.29,249.93L44.03,251.34L47.77,246.18L51.15,239.14L54.89,241.96L58.51,246.65L62.25,235.39L65.87,225.54L69.61,225.54L73.35,231.17L76.96,242.9L80.7,251.81L84.32,239.61L91.8,234.92L95.18,221.79L98.92,228.82L102.54,224.6L106.28,221.79L109.9,211.93L113.64,211.93L117.38,218.97L121,229.29L124.74,236.8L128.35,227.42L132.09,225.07L135.83,220.85L139.33,214.75L143.07,220.38L146.69,219.44L150.43,203.02L154.05,197.39L157.79,191.76L161.53,207.24L168.89,224.6L172.51,214.28L176.25,213.34L179.99,213.34L183.36,194.58L187.1,195.05L190.72,197.86L194.46,191.29L198.08,181.44L201.82,177.69L205.56,194.11L209.18,206.31L212.92,220.85L216.54,211L220.28,209.59L224.02,217.09L227.4,195.05L231.14,198.8L234.75,195.52L238.49,181.44L242.11,163.62L245.85,167.84L253.21,197.86L256.95,210.06L260.57,197.86L264.31,191.76L268.05,195.98L271.43,180.03L278.79,178.63L282.53,157.52L286.14,134.53L289.88,142.51L300.98,194.11L304.6,174.87L308.34,172.06L312.08,175.34L315.58,156.58L319.32,158.46L322.94,156.11L326.68,129.84L330.3,111.54L334.04,115.3L341.39,161.74L345.13,178.16L348.75,161.74L352.49,157.52L356.23,164.08L359.61,138.28L363.35,142.04L366.97,138.75L370.71,107.32L374.33,87.15L378.07,86.21L381.81,115.77L385.43,142.51L389.17,162.21L392.78,147.67L396.52,145.79L400.26,156.11L403.64,135.47L407.38,142.04L411,135L418.36,74.95L422.1,68.39L425.84,115.77L429.46,136.88L433.2,159.86L436.82,147.2L440.56,136.41L444.3,144.85L447.67,114.83L451.41,119.52L455.03,108.26L458.77,83.87L462.39,48.21L466.13,43.05L469.87,88.09L473.49,114.36L477.23,135.47L480.85,115.3\" style=\"vector-effect: non-scaling-stroke; fill: none; stroke: rgb(255, 153, 51); stroke-opacity: 1; stroke-width: 1.3px; opacity: 1;\"/></g><g class=\"points\"/><g class=\"text\"/></g><g class=\"trace scatter trace67654d\" style=\"stroke-miterlimit: 2; opacity: 1;\"><g class=\"fills\"/><g class=\"errorbars\"/><g class=\"lines\"><path class=\"js-line\" d=\"M484.59,109.67L488.33,121.86L491.83,108.73L495.57,89.03L499.18,83.87L502.92,54.31L506.54,13.5L510.28,21.01L514.02,66.98L517.64,89.03L521.38,122.33L525,102.63\" style=\"vector-effect: non-scaling-stroke; fill: none; stroke: rgb(55, 128, 191); stroke-opacity: 1; stroke-width: 1.3px; opacity: 1;\"/></g><g class=\"points\"/><g class=\"text\"/></g><g class=\"trace scatter tracec58458\" style=\"stroke-miterlimit: 2; opacity: 1;\"><g class=\"fills\"/><g class=\"errorbars\"/><g class=\"lines\"><path class=\"js-line\" d=\"M484.59,115.3L525,115.3\" style=\"vector-effect: non-scaling-stroke; fill: none; stroke: rgb(50, 171, 96); stroke-opacity: 1; stroke-width: 1.3px; opacity: 1;\"/></g><g class=\"points\"/><g class=\"text\"/></g></g></g><g class=\"overplot\"/><path class=\"xlines-above crisp\" style=\"fill: none;\" d=\"M0,0\"/><path class=\"ylines-above crisp\" style=\"fill: none;\" d=\"M0,0\"/><g class=\"overlines-above\"/><g class=\"xaxislayer-above\"><g class=\"xtick\"><text text-anchor=\"middle\" x=\"0\" y=\"383\" transform=\"translate(124.03,0)\" style=\"font-family: 'Open Sans', verdana, arial, sans-serif; font-size: 12px; fill: rgb(77, 86, 99); fill-opacity: 1; white-space: pre;\">1950</text></g><g class=\"xtick\"><text text-anchor=\"middle\" x=\"0\" y=\"383\" transform=\"translate(212.09,0)\" style=\"font-family: 'Open Sans', verdana, arial, sans-serif; font-size: 12px; fill: rgb(77, 86, 99); fill-opacity: 1; white-space: pre;\">1952</text></g><g class=\"xtick\"><text text-anchor=\"middle\" x=\"0\" y=\"383\" transform=\"translate(300.28,0)\" style=\"font-family: 'Open Sans', verdana, arial, sans-serif; font-size: 12px; fill: rgb(77, 86, 99); fill-opacity: 1; white-space: pre;\">1954</text></g><g class=\"xtick\"><text text-anchor=\"middle\" x=\"0\" y=\"383\" transform=\"translate(388.34,0)\" style=\"font-family: 'Open Sans', verdana, arial, sans-serif; font-size: 12px; fill: rgb(77, 86, 99); fill-opacity: 1; white-space: pre;\">1956</text></g><g class=\"xtick\"><text text-anchor=\"middle\" x=\"0\" y=\"383\" transform=\"translate(476.52,0)\" style=\"font-family: 'Open Sans', verdana, arial, sans-serif; font-size: 12px; fill: rgb(77, 86, 99); fill-opacity: 1; white-space: pre;\">1958</text></g><g class=\"xtick\"><text text-anchor=\"middle\" x=\"0\" y=\"383\" transform=\"translate(564.5899999999999,0)\" style=\"font-family: 'Open Sans', verdana, arial, sans-serif; font-size: 12px; fill: rgb(77, 86, 99); fill-opacity: 1; white-space: pre;\">1960</text></g></g><g class=\"yaxislayer-above\"><g class=\"ytick\"><text text-anchor=\"end\" x=\"79\" y=\"4.199999999999999\" transform=\"translate(0,358.38)\" style=\"font-family: 'Open Sans', verdana, arial, sans-serif; font-size: 12px; fill: rgb(77, 86, 99); fill-opacity: 1; white-space: pre;\">100</text></g><g class=\"ytick\"><text text-anchor=\"end\" x=\"79\" y=\"4.199999999999999\" transform=\"translate(0,311.47)\" style=\"font-family: 'Open Sans', verdana, arial, sans-serif; font-size: 12px; fill: rgb(77, 86, 99); fill-opacity: 1; white-space: pre;\">200</text></g><g class=\"ytick\"><text text-anchor=\"end\" x=\"79\" y=\"4.199999999999999\" transform=\"translate(0,264.55)\" style=\"font-family: 'Open Sans', verdana, arial, sans-serif; font-size: 12px; fill: rgb(77, 86, 99); fill-opacity: 1; white-space: pre;\">300</text></g><g class=\"ytick\"><text text-anchor=\"end\" x=\"79\" y=\"4.199999999999999\" transform=\"translate(0,217.64)\" style=\"font-family: 'Open Sans', verdana, arial, sans-serif; font-size: 12px; fill: rgb(77, 86, 99); fill-opacity: 1; white-space: pre;\">400</text></g><g class=\"ytick\"><text text-anchor=\"end\" x=\"79\" y=\"4.199999999999999\" transform=\"translate(0,170.73000000000002)\" style=\"font-family: 'Open Sans', verdana, arial, sans-serif; font-size: 12px; fill: rgb(77, 86, 99); fill-opacity: 1; white-space: pre;\">500</text></g><g class=\"ytick\"><text text-anchor=\"end\" x=\"79\" y=\"4.199999999999999\" transform=\"translate(0,123.82)\" style=\"font-family: 'Open Sans', verdana, arial, sans-serif; font-size: 12px; fill: rgb(77, 86, 99); fill-opacity: 1; white-space: pre;\">600</text></g></g><g class=\"overaxes-above\"/></g></g><g class=\"polarlayer\"/><g class=\"ternarylayer\"/><g class=\"geolayer\"/><g class=\"funnelarealayer\"/><g class=\"pielayer\"/><g class=\"treemaplayer\"/><g class=\"sunburstlayer\"/><g class=\"glimages\"/><defs id=\"topdefs-bee558\"><g class=\"clips\"/><clipPath id=\"legendbee558\"><rect width=\"73\" height=\"67\" x=\"0\" y=\"0\"/></clipPath></defs><g class=\"layer-above\"><g class=\"imagelayer\"/><g class=\"shapelayer\"/></g><g class=\"infolayer\"><g class=\"legend\" pointer-events=\"all\" transform=\"translate(615.5, 100)\"><rect class=\"bg\" shape-rendering=\"crispEdges\" style=\"stroke: rgb(68, 68, 68); stroke-opacity: 1; fill: rgb(245, 246, 249); fill-opacity: 1; stroke-width: 0px;\" width=\"73\" height=\"67\" x=\"0\" y=\"0\"/><g class=\"scrollbox\" transform=\"translate(0, 0)\" clip-path=\"url('#legendbee558')\"><g class=\"groups\"><g class=\"traces\" style=\"opacity: 1;\" transform=\"translate(0, 14.5)\"><text class=\"legendtext user-select-none\" text-anchor=\"start\" x=\"40\" y=\"4.680000000000001\" style=\"font-family: 'Open Sans', verdana, arial, sans-serif; font-size: 12px; fill: rgb(77, 86, 99); fill-opacity: 1; white-space: pre;\">train</text><g class=\"layers\" style=\"opacity: 1;\"><g class=\"legendfill\"/><g class=\"legendlines\"><path class=\"js-line\" d=\"M5,0h30\" style=\"fill: none; stroke: rgb(255, 153, 51); stroke-opacity: 1; stroke-width: 1.3px;\"/></g><g class=\"legendsymbols\"><g class=\"legendpoints\"/></g></g><rect class=\"legendtoggle\" pointer-events=\"all\" x=\"0\" y=\"-9.5\" width=\"67.953125\" height=\"19\" style=\"cursor: pointer; fill: rgb(0, 0, 0); fill-opacity: 0;\"/></g><g class=\"traces\" style=\"opacity: 1;\" transform=\"translate(0, 33.5)\"><text class=\"legendtext user-select-none\" text-anchor=\"start\" x=\"40\" y=\"4.680000000000001\" style=\"font-family: 'Open Sans', verdana, arial, sans-serif; font-size: 12px; fill: rgb(77, 86, 99); fill-opacity: 1; white-space: pre;\">test</text><g class=\"layers\" style=\"opacity: 1;\"><g class=\"legendfill\"/><g class=\"legendlines\"><path class=\"js-line\" d=\"M5,0h30\" style=\"fill: none; stroke: rgb(55, 128, 191); stroke-opacity: 1; stroke-width: 1.3px;\"/></g><g class=\"legendsymbols\"><g class=\"legendpoints\"/></g></g><rect class=\"legendtoggle\" pointer-events=\"all\" x=\"0\" y=\"-9.5\" width=\"67.953125\" height=\"19\" style=\"cursor: pointer; fill: rgb(0, 0, 0); fill-opacity: 0;\"/></g><g class=\"traces\" style=\"opacity: 1;\" transform=\"translate(0, 52.5)\"><text class=\"legendtext user-select-none\" text-anchor=\"start\" x=\"40\" y=\"4.680000000000001\" style=\"font-family: 'Open Sans', verdana, arial, sans-serif; font-size: 12px; fill: rgb(77, 86, 99); fill-opacity: 1; white-space: pre;\">fcst</text><g class=\"layers\" style=\"opacity: 1;\"><g class=\"legendfill\"/><g class=\"legendlines\"><path class=\"js-line\" d=\"M5,0h30\" style=\"fill: none; stroke: rgb(50, 171, 96); stroke-opacity: 1; stroke-width: 1.3px;\"/></g><g class=\"legendsymbols\"><g class=\"legendpoints\"/></g></g><rect class=\"legendtoggle\" pointer-events=\"all\" x=\"0\" y=\"-9.5\" width=\"67.953125\" height=\"19\" style=\"cursor: pointer; fill: rgb(0, 0, 0); fill-opacity: 0;\"/></g></g></g><rect class=\"scrollbar\" rx=\"20\" ry=\"3\" width=\"0\" height=\"0\" style=\"fill: rgb(128, 139, 164); fill-opacity: 1;\" x=\"0\" y=\"0\"/></g><g class=\"g-gtitle\"><text class=\"gtitle\" x=\"35\" y=\"50\" text-anchor=\"start\" dy=\"0em\" style=\"font-family: 'Open Sans', verdana, arial, sans-serif; font-size: 17px; fill: rgb(77, 86, 99); opacity: 1; font-weight: normal; white-space: pre;\">预测最近一年航空乘客数</text></g><g class=\"g-xtitle\"><text class=\"xtitle\" x=\"342.5\" y=\"410.8\" text-anchor=\"middle\" style=\"font-family: 'Open Sans', verdana, arial, sans-serif; font-size: 14px; fill: rgb(77, 86, 99); opacity: 1; font-weight: normal; white-space: pre;\">时间</text></g><g class=\"g-ytitle\"><text class=\"ytitle\" transform=\"rotate(-90,31.309375000000003,235)\" x=\"31.309375000000003\" y=\"235\" text-anchor=\"middle\" style=\"font-family: 'Open Sans', verdana, arial, sans-serif; font-size: 14px; fill: rgb(77, 86, 99); opacity: 1; font-weight: normal; white-space: pre;\">乘客数量</text></g></g></svg>"
      ]
     },
     "metadata": {},
     "output_type": "display_data"
    }
   ],
   "source": [
    "new_fcst_fig = fcst_df.iplot(asFigure = True, xTitle=\"时间\",yTitle=\"乘客数量\", title=\"预测最近一年航空乘客数\")\n",
    "new_fcst_fig.show('svg')"
   ]
  },
  {
   "cell_type": "markdown",
   "metadata": {},
   "source": [
    "## 未完成部分\n",
    "\n",
    "* 澳洲空乘数据不大适合做为 Navie 方法的演示，后面补充合适的数据集\n",
    "* 增加验证预测模型性能（准确性）的代码"
   ]
  },
  {
   "cell_type": "markdown",
   "metadata": {},
   "source": [
    "## 参考资料\n",
    "* (7 methods to perform Time Series forecasting)[https://www.analyticsvidhya.com/blog/2018/02/time-series-forecasting-methods/]"
   ]
  },
  {
   "cell_type": "code",
   "execution_count": null,
   "metadata": {},
   "outputs": [],
   "source": []
  }
 ],
 "metadata": {
  "kernelspec": {
   "display_name": "Python 3",
   "language": "python",
   "name": "python3"
  },
  "language_info": {
   "codemirror_mode": {
    "name": "ipython",
    "version": 3
   },
   "file_extension": ".py",
   "mimetype": "text/x-python",
   "name": "python",
   "nbconvert_exporter": "python",
   "pygments_lexer": "ipython3",
   "version": "3.7.6"
  }
 },
 "nbformat": 4,
 "nbformat_minor": 4
}
