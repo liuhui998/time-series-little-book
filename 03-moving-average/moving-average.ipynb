{
 "cells": [
  {
   "cell_type": "markdown",
   "metadata": {},
   "source": [
    "# 移动平均 看趋势\n",
    "\n",
    "* 我们使用之前澳洲空乘数据来做演示"
   ]
  },
  {
   "cell_type": "code",
   "execution_count": 1,
   "metadata": {},
   "outputs": [
    {
     "data": {
      "text/html": [
       "<div>\n",
       "<style scoped>\n",
       "    .dataframe tbody tr th:only-of-type {\n",
       "        vertical-align: middle;\n",
       "    }\n",
       "\n",
       "    .dataframe tbody tr th {\n",
       "        vertical-align: top;\n",
       "    }\n",
       "\n",
       "    .dataframe thead th {\n",
       "        text-align: right;\n",
       "    }\n",
       "</style>\n",
       "<table border=\"1\" class=\"dataframe\">\n",
       "  <thead>\n",
       "    <tr style=\"text-align: right;\">\n",
       "      <th></th>\n",
       "      <th>Passengers</th>\n",
       "    </tr>\n",
       "    <tr>\n",
       "      <th>Month</th>\n",
       "      <th></th>\n",
       "    </tr>\n",
       "  </thead>\n",
       "  <tbody>\n",
       "    <tr>\n",
       "      <th>1949-01-01</th>\n",
       "      <td>112</td>\n",
       "    </tr>\n",
       "    <tr>\n",
       "      <th>1949-02-01</th>\n",
       "      <td>118</td>\n",
       "    </tr>\n",
       "    <tr>\n",
       "      <th>1949-03-01</th>\n",
       "      <td>132</td>\n",
       "    </tr>\n",
       "    <tr>\n",
       "      <th>1949-04-01</th>\n",
       "      <td>129</td>\n",
       "    </tr>\n",
       "    <tr>\n",
       "      <th>1949-05-01</th>\n",
       "      <td>121</td>\n",
       "    </tr>\n",
       "  </tbody>\n",
       "</table>\n",
       "</div>"
      ],
      "text/plain": [
       "            Passengers\n",
       "Month                 \n",
       "1949-01-01         112\n",
       "1949-02-01         118\n",
       "1949-03-01         132\n",
       "1949-04-01         129\n",
       "1949-05-01         121"
      ]
     },
     "execution_count": 1,
     "metadata": {},
     "output_type": "execute_result"
    }
   ],
   "source": [
    "import pandas as pd\n",
    "from datetime import datetime\n",
    "import cufflinks as cf\n",
    "\n",
    "dateparse = lambda dates: datetime.strptime(dates, '%Y-%m')\n",
    "data = pd.read_csv('../data/AirPassengers.csv', parse_dates=['Month'], index_col='Month',date_parser=dateparse)\n",
    "data.head()"
   ]
  },
  {
   "cell_type": "code",
   "execution_count": 2,
   "metadata": {},
   "outputs": [
    {
     "data": {
      "image/svg+xml": [
       "<svg class=\"main-svg\" xmlns=\"http://www.w3.org/2000/svg\" xmlns:xlink=\"http://www.w3.org/1999/xlink\" width=\"700\" height=\"450\" style=\"\" viewBox=\"0 0 700 450\"><rect x=\"0\" y=\"0\" width=\"700\" height=\"450\" style=\"fill: rgb(245, 246, 249); fill-opacity: 1;\"/><defs id=\"defs-292c7d\"><g class=\"clips\"><clipPath id=\"clip292c7dxyplot\" class=\"plotclip\"><rect width=\"540\" height=\"270\"/></clipPath><clipPath class=\"axesclip\" id=\"clip292c7dx\"><rect x=\"80\" y=\"0\" width=\"540\" height=\"450\"/></clipPath><clipPath class=\"axesclip\" id=\"clip292c7dy\"><rect x=\"0\" y=\"100\" width=\"700\" height=\"270\"/></clipPath><clipPath class=\"axesclip\" id=\"clip292c7dxy\"><rect x=\"80\" y=\"100\" width=\"540\" height=\"270\"/></clipPath></g><g class=\"gradients\"/></defs><g class=\"bglayer\"/><g class=\"layer-below\"><g class=\"imagelayer\"/><g class=\"shapelayer\"/></g><g class=\"cartesianlayer\"><g class=\"subplot xy\"><g class=\"layer-subplot\"><g class=\"shapelayer\"/><g class=\"imagelayer\"/></g><g class=\"gridlayer\"><g class=\"x\"><path class=\"xgrid crisp\" transform=\"translate(125.28999999999999,0)\" d=\"M0,100v270\" style=\"stroke: rgb(225, 229, 237); stroke-opacity: 1; stroke-width: 1px;\"/><path class=\"xgrid crisp\" transform=\"translate(215.87,0)\" d=\"M0,100v270\" style=\"stroke: rgb(225, 229, 237); stroke-opacity: 1; stroke-width: 1px;\"/><path class=\"xgrid crisp\" transform=\"translate(306.57,0)\" d=\"M0,100v270\" style=\"stroke: rgb(225, 229, 237); stroke-opacity: 1; stroke-width: 1px;\"/><path class=\"xgrid crisp\" transform=\"translate(397.15,0)\" d=\"M0,100v270\" style=\"stroke: rgb(225, 229, 237); stroke-opacity: 1; stroke-width: 1px;\"/><path class=\"xgrid crisp\" transform=\"translate(487.85,0)\" d=\"M0,100v270\" style=\"stroke: rgb(225, 229, 237); stroke-opacity: 1; stroke-width: 1px;\"/><path class=\"xgrid crisp\" transform=\"translate(578.4300000000001,0)\" d=\"M0,100v270\" style=\"stroke: rgb(225, 229, 237); stroke-opacity: 1; stroke-width: 1px;\"/></g><g class=\"y\"><path class=\"ygrid crisp\" transform=\"translate(0,358.38)\" d=\"M80,0h540\" style=\"stroke: rgb(225, 229, 237); stroke-opacity: 1; stroke-width: 1px;\"/><path class=\"ygrid crisp\" transform=\"translate(0,311.47)\" d=\"M80,0h540\" style=\"stroke: rgb(225, 229, 237); stroke-opacity: 1; stroke-width: 1px;\"/><path class=\"ygrid crisp\" transform=\"translate(0,264.55)\" d=\"M80,0h540\" style=\"stroke: rgb(225, 229, 237); stroke-opacity: 1; stroke-width: 1px;\"/><path class=\"ygrid crisp\" transform=\"translate(0,217.64)\" d=\"M80,0h540\" style=\"stroke: rgb(225, 229, 237); stroke-opacity: 1; stroke-width: 1px;\"/><path class=\"ygrid crisp\" transform=\"translate(0,170.73000000000002)\" d=\"M80,0h540\" style=\"stroke: rgb(225, 229, 237); stroke-opacity: 1; stroke-width: 1px;\"/><path class=\"ygrid crisp\" transform=\"translate(0,123.82)\" d=\"M80,0h540\" style=\"stroke: rgb(225, 229, 237); stroke-opacity: 1; stroke-width: 1px;\"/></g></g><g class=\"zerolinelayer\"/><path class=\"xlines-below\"/><path class=\"ylines-below\"/><g class=\"overlines-below\"/><g class=\"xaxislayer-below\"/><g class=\"yaxislayer-below\"/><g class=\"overaxes-below\"/><g class=\"plot\" transform=\"translate(80, 100)\" clip-path=\"url('#clip292c7dxyplot')\"><g class=\"scatterlayer mlayer\"><g class=\"trace scatter traceb06ab5\" style=\"stroke-miterlimit: 2; opacity: 1;\"><g class=\"fills\"/><g class=\"errorbars\"/><g class=\"lines\"><path class=\"js-line\" d=\"M0,252.75L3.85,249.93L7.32,243.36L11.17,244.77L14.89,248.53L22.46,235.86L26.31,235.86L30.15,241.49L33.87,249.46L37.72,256.5L41.44,249.93L45.29,251.34L49.14,246.18L52.61,239.14L56.46,241.96L60.18,246.65L64.03,235.39L67.75,225.54L71.59,225.54L75.44,231.17L79.16,242.9L83.01,251.81L86.73,239.61L94.43,234.92L97.9,221.79L101.75,228.82L105.47,224.6L109.32,221.79L113.04,211.93L116.88,211.93L120.73,218.97L124.45,229.29L128.3,236.8L132.02,227.42L135.87,225.07L139.72,220.85L143.31,214.75L147.16,220.38L150.88,219.44L154.73,203.02L158.45,197.39L162.3,191.76L166.14,207.24L173.71,224.6L177.44,214.28L181.28,213.34L185.13,213.34L188.6,194.58L192.45,195.05L196.17,197.86L200.02,191.29L203.74,181.44L207.59,177.69L211.43,194.11L215.16,206.31L219,220.85L222.73,211L226.57,209.59L230.42,217.09L233.89,195.05L237.74,198.8L241.46,195.52L245.31,181.44L249.03,163.62L252.88,167.84L260.45,197.86L264.29,210.06L268.01,197.86L271.86,191.76L275.71,195.98L279.18,180.03L286.75,178.63L290.6,157.52L294.32,134.53L298.17,142.51L309.58,194.11L313.3,174.87L317.15,172.06L321,175.34L324.6,156.58L328.44,158.46L332.16,156.11L336.01,129.84L339.73,111.54L343.58,115.3L351.15,161.74L355,178.16L358.72,161.74L362.56,157.52L366.41,164.08L369.89,138.28L373.73,142.04L377.45,138.75L381.3,107.32L385.02,87.15L388.87,86.21L392.72,115.77L396.44,142.51L400.28,162.21L404.01,147.67L407.85,145.79L411.7,156.11L415.17,135.47L419.02,142.04L422.74,135L430.31,74.95L434.16,68.39L438.01,115.77L441.73,136.88L445.57,159.86L449.3,147.2L453.14,136.41L456.99,144.85L460.46,114.83L464.31,119.52L468.03,108.26L471.88,83.87L475.6,48.21L479.45,43.05L483.3,88.09L487.02,114.36L490.86,135.47L494.59,115.3L498.43,109.67L502.28,121.86L505.88,108.73L509.72,89.03L513.45,83.87L517.29,54.31L521.02,13.5L524.86,21.01L528.71,66.98L532.43,89.03L536.28,122.33L540,102.63\" style=\"vector-effect: non-scaling-stroke; fill: none; stroke: rgb(255, 153, 51); stroke-opacity: 1; stroke-width: 1.3px; opacity: 1;\"/></g><g class=\"points\"/><g class=\"text\"/></g></g></g><g class=\"overplot\"/><path class=\"xlines-above crisp\" d=\"M0,0\" style=\"fill: none;\"/><path class=\"ylines-above crisp\" d=\"M0,0\" style=\"fill: none;\"/><g class=\"overlines-above\"/><g class=\"xaxislayer-above\"><g class=\"xtick\"><text text-anchor=\"middle\" x=\"0\" y=\"383\" transform=\"translate(125.28999999999999,0)\" style=\"font-family: 'Open Sans', verdana, arial, sans-serif; font-size: 12px; fill: rgb(77, 86, 99); fill-opacity: 1; white-space: pre;\">1950</text></g><g class=\"xtick\"><text text-anchor=\"middle\" x=\"0\" y=\"383\" transform=\"translate(215.87,0)\" style=\"font-family: 'Open Sans', verdana, arial, sans-serif; font-size: 12px; fill: rgb(77, 86, 99); fill-opacity: 1; white-space: pre;\">1952</text></g><g class=\"xtick\"><text text-anchor=\"middle\" x=\"0\" y=\"383\" transform=\"translate(306.57,0)\" style=\"font-family: 'Open Sans', verdana, arial, sans-serif; font-size: 12px; fill: rgb(77, 86, 99); fill-opacity: 1; white-space: pre;\">1954</text></g><g class=\"xtick\"><text text-anchor=\"middle\" x=\"0\" y=\"383\" transform=\"translate(397.15,0)\" style=\"font-family: 'Open Sans', verdana, arial, sans-serif; font-size: 12px; fill: rgb(77, 86, 99); fill-opacity: 1; white-space: pre;\">1956</text></g><g class=\"xtick\"><text text-anchor=\"middle\" x=\"0\" y=\"383\" transform=\"translate(487.85,0)\" style=\"font-family: 'Open Sans', verdana, arial, sans-serif; font-size: 12px; fill: rgb(77, 86, 99); fill-opacity: 1; white-space: pre;\">1958</text></g><g class=\"xtick\"><text text-anchor=\"middle\" x=\"0\" y=\"383\" transform=\"translate(578.4300000000001,0)\" style=\"font-family: 'Open Sans', verdana, arial, sans-serif; font-size: 12px; fill: rgb(77, 86, 99); fill-opacity: 1; white-space: pre;\">1960</text></g></g><g class=\"yaxislayer-above\"><g class=\"ytick\"><text text-anchor=\"end\" x=\"79\" y=\"4.199999999999999\" transform=\"translate(0,358.38)\" style=\"font-family: 'Open Sans', verdana, arial, sans-serif; font-size: 12px; fill: rgb(77, 86, 99); fill-opacity: 1; white-space: pre;\">100</text></g><g class=\"ytick\"><text text-anchor=\"end\" x=\"79\" y=\"4.199999999999999\" transform=\"translate(0,311.47)\" style=\"font-family: 'Open Sans', verdana, arial, sans-serif; font-size: 12px; fill: rgb(77, 86, 99); fill-opacity: 1; white-space: pre;\">200</text></g><g class=\"ytick\"><text text-anchor=\"end\" x=\"79\" y=\"4.199999999999999\" transform=\"translate(0,264.55)\" style=\"font-family: 'Open Sans', verdana, arial, sans-serif; font-size: 12px; fill: rgb(77, 86, 99); fill-opacity: 1; white-space: pre;\">300</text></g><g class=\"ytick\"><text text-anchor=\"end\" x=\"79\" y=\"4.199999999999999\" transform=\"translate(0,217.64)\" style=\"font-family: 'Open Sans', verdana, arial, sans-serif; font-size: 12px; fill: rgb(77, 86, 99); fill-opacity: 1; white-space: pre;\">400</text></g><g class=\"ytick\"><text text-anchor=\"end\" x=\"79\" y=\"4.199999999999999\" transform=\"translate(0,170.73000000000002)\" style=\"font-family: 'Open Sans', verdana, arial, sans-serif; font-size: 12px; fill: rgb(77, 86, 99); fill-opacity: 1; white-space: pre;\">500</text></g><g class=\"ytick\"><text text-anchor=\"end\" x=\"79\" y=\"4.199999999999999\" transform=\"translate(0,123.82)\" style=\"font-family: 'Open Sans', verdana, arial, sans-serif; font-size: 12px; fill: rgb(77, 86, 99); fill-opacity: 1; white-space: pre;\">600</text></g></g><g class=\"overaxes-above\"/></g></g><g class=\"polarlayer\"/><g class=\"ternarylayer\"/><g class=\"geolayer\"/><g class=\"funnelarealayer\"/><g class=\"pielayer\"/><g class=\"treemaplayer\"/><g class=\"sunburstlayer\"/><g class=\"glimages\"/><defs id=\"topdefs-292c7d\"><g class=\"clips\"/></defs><g class=\"layer-above\"><g class=\"imagelayer\"/><g class=\"shapelayer\"/></g><g class=\"infolayer\"><g class=\"g-gtitle\"><text class=\"gtitle\" x=\"35\" y=\"50\" text-anchor=\"start\" dy=\"0em\" style=\"font-family: 'Open Sans', verdana, arial, sans-serif; font-size: 17px; fill: rgb(77, 86, 99); opacity: 1; font-weight: normal; white-space: pre;\">澳洲航空乘客数量月度数量</text></g><g class=\"g-xtitle\"><text class=\"xtitle\" x=\"350\" y=\"410.3\" text-anchor=\"middle\" style=\"font-family: 'Open Sans', verdana, arial, sans-serif; font-size: 14px; fill: rgb(77, 86, 99); opacity: 1; font-weight: normal; white-space: pre;\">时间</text></g><g class=\"g-ytitle\"><text class=\"ytitle\" transform=\"rotate(-90,31.309375000000003,235)\" x=\"31.309375000000003\" y=\"235\" text-anchor=\"middle\" style=\"font-family: 'Open Sans', verdana, arial, sans-serif; font-size: 14px; fill: rgb(77, 86, 99); opacity: 1; font-weight: normal; white-space: pre;\">乘客数量</text></g></g></svg>"
      ]
     },
     "metadata": {},
     "output_type": "display_data"
    }
   ],
   "source": [
    "fig = data.iplot(asFigure=True, xTitle=\"时间\",yTitle=\"乘客数量\", title=\"澳洲航空乘客数量月度数量\")\n",
    "fig.show('svg')\n",
    "#fig.show()"
   ]
  },
  {
   "cell_type": "markdown",
   "metadata": {},
   "source": [
    "## 移动平均\n",
    "\n",
    "* rolling 设定的 window 参数越大，它的平滑效果就越好\n",
    "* 我分别使用了 4,8,12 做为参数，大家可以看一下效果"
   ]
  },
  {
   "cell_type": "code",
   "execution_count": 3,
   "metadata": {},
   "outputs": [],
   "source": [
    "sma_data  = data.copy()"
   ]
  },
  {
   "cell_type": "code",
   "execution_count": 4,
   "metadata": {},
   "outputs": [
    {
     "data": {
      "text/html": [
       "<div>\n",
       "<style scoped>\n",
       "    .dataframe tbody tr th:only-of-type {\n",
       "        vertical-align: middle;\n",
       "    }\n",
       "\n",
       "    .dataframe tbody tr th {\n",
       "        vertical-align: top;\n",
       "    }\n",
       "\n",
       "    .dataframe thead th {\n",
       "        text-align: right;\n",
       "    }\n",
       "</style>\n",
       "<table border=\"1\" class=\"dataframe\">\n",
       "  <thead>\n",
       "    <tr style=\"text-align: right;\">\n",
       "      <th></th>\n",
       "      <th>Passengers</th>\n",
       "      <th>SMA_Passengers4</th>\n",
       "      <th>SMA_Passengers8</th>\n",
       "      <th>SMA_Passengers12</th>\n",
       "    </tr>\n",
       "    <tr>\n",
       "      <th>Month</th>\n",
       "      <th></th>\n",
       "      <th></th>\n",
       "      <th></th>\n",
       "      <th></th>\n",
       "    </tr>\n",
       "  </thead>\n",
       "  <tbody>\n",
       "    <tr>\n",
       "      <th>1949-01-01</th>\n",
       "      <td>112</td>\n",
       "      <td>NaN</td>\n",
       "      <td>NaN</td>\n",
       "      <td>NaN</td>\n",
       "    </tr>\n",
       "    <tr>\n",
       "      <th>1949-02-01</th>\n",
       "      <td>118</td>\n",
       "      <td>NaN</td>\n",
       "      <td>NaN</td>\n",
       "      <td>NaN</td>\n",
       "    </tr>\n",
       "    <tr>\n",
       "      <th>1949-03-01</th>\n",
       "      <td>132</td>\n",
       "      <td>NaN</td>\n",
       "      <td>NaN</td>\n",
       "      <td>NaN</td>\n",
       "    </tr>\n",
       "    <tr>\n",
       "      <th>1949-04-01</th>\n",
       "      <td>129</td>\n",
       "      <td>122.75</td>\n",
       "      <td>NaN</td>\n",
       "      <td>NaN</td>\n",
       "    </tr>\n",
       "    <tr>\n",
       "      <th>1949-05-01</th>\n",
       "      <td>121</td>\n",
       "      <td>125.00</td>\n",
       "      <td>NaN</td>\n",
       "      <td>NaN</td>\n",
       "    </tr>\n",
       "  </tbody>\n",
       "</table>\n",
       "</div>"
      ],
      "text/plain": [
       "            Passengers  SMA_Passengers4  SMA_Passengers8  SMA_Passengers12\n",
       "Month                                                                     \n",
       "1949-01-01         112              NaN              NaN               NaN\n",
       "1949-02-01         118              NaN              NaN               NaN\n",
       "1949-03-01         132              NaN              NaN               NaN\n",
       "1949-04-01         129           122.75              NaN               NaN\n",
       "1949-05-01         121           125.00              NaN               NaN"
      ]
     },
     "execution_count": 4,
     "metadata": {},
     "output_type": "execute_result"
    }
   ],
   "source": [
    "sma_data['SMA_Passengers4'] = sma_data['Passengers'].rolling(window=4).mean()\n",
    "sma_data['SMA_Passengers8'] = sma_data['Passengers'].rolling(window=8).mean()\n",
    "sma_data['SMA_Passengers12'] = sma_data['Passengers'].rolling(window=12).mean()\n",
    "\n",
    "sma_data.head()"
   ]
  },
  {
   "cell_type": "code",
   "execution_count": 5,
   "metadata": {},
   "outputs": [
    {
     "data": {
      "image/svg+xml": [
       "<svg class=\"main-svg\" xmlns=\"http://www.w3.org/2000/svg\" xmlns:xlink=\"http://www.w3.org/1999/xlink\" width=\"700\" height=\"450\" style=\"\" viewBox=\"0 0 700 450\"><rect x=\"0\" y=\"0\" width=\"700\" height=\"450\" style=\"fill: rgb(245, 246, 249); fill-opacity: 1;\"/><defs id=\"defs-d5f07a\"><g class=\"clips\"><clipPath id=\"clipd5f07axyplot\" class=\"plotclip\"><rect width=\"436\" height=\"270\"/></clipPath><clipPath class=\"axesclip\" id=\"clipd5f07ax\"><rect x=\"80\" y=\"0\" width=\"436\" height=\"450\"/></clipPath><clipPath class=\"axesclip\" id=\"clipd5f07ay\"><rect x=\"0\" y=\"100\" width=\"700\" height=\"270\"/></clipPath><clipPath class=\"axesclip\" id=\"clipd5f07axy\"><rect x=\"80\" y=\"100\" width=\"436\" height=\"270\"/></clipPath></g><g class=\"gradients\"/></defs><g class=\"bglayer\"/><g class=\"layer-below\"><g class=\"imagelayer\"/><g class=\"shapelayer\"/></g><g class=\"cartesianlayer\"><g class=\"subplot xy\"><g class=\"layer-subplot\"><g class=\"shapelayer\"/><g class=\"imagelayer\"/></g><g class=\"gridlayer\"><g class=\"x\"><path class=\"xgrid crisp\" transform=\"translate(116.57,0)\" d=\"M0,100v270\" style=\"stroke: rgb(225, 229, 237); stroke-opacity: 1; stroke-width: 1px;\"/><path class=\"xgrid crisp\" transform=\"translate(189.7,0)\" d=\"M0,100v270\" style=\"stroke: rgb(225, 229, 237); stroke-opacity: 1; stroke-width: 1px;\"/><path class=\"xgrid crisp\" transform=\"translate(262.94,0)\" d=\"M0,100v270\" style=\"stroke: rgb(225, 229, 237); stroke-opacity: 1; stroke-width: 1px;\"/><path class=\"xgrid crisp\" transform=\"translate(336.07,0)\" d=\"M0,100v270\" style=\"stroke: rgb(225, 229, 237); stroke-opacity: 1; stroke-width: 1px;\"/><path class=\"xgrid crisp\" transform=\"translate(409.3,0)\" d=\"M0,100v270\" style=\"stroke: rgb(225, 229, 237); stroke-opacity: 1; stroke-width: 1px;\"/><path class=\"xgrid crisp\" transform=\"translate(482.44,0)\" d=\"M0,100v270\" style=\"stroke: rgb(225, 229, 237); stroke-opacity: 1; stroke-width: 1px;\"/></g><g class=\"y\"><path class=\"ygrid crisp\" transform=\"translate(0,358.38)\" d=\"M80,0h436\" style=\"stroke: rgb(225, 229, 237); stroke-opacity: 1; stroke-width: 1px;\"/><path class=\"ygrid crisp\" transform=\"translate(0,311.47)\" d=\"M80,0h436\" style=\"stroke: rgb(225, 229, 237); stroke-opacity: 1; stroke-width: 1px;\"/><path class=\"ygrid crisp\" transform=\"translate(0,264.55)\" d=\"M80,0h436\" style=\"stroke: rgb(225, 229, 237); stroke-opacity: 1; stroke-width: 1px;\"/><path class=\"ygrid crisp\" transform=\"translate(0,217.64)\" d=\"M80,0h436\" style=\"stroke: rgb(225, 229, 237); stroke-opacity: 1; stroke-width: 1px;\"/><path class=\"ygrid crisp\" transform=\"translate(0,170.73000000000002)\" d=\"M80,0h436\" style=\"stroke: rgb(225, 229, 237); stroke-opacity: 1; stroke-width: 1px;\"/><path class=\"ygrid crisp\" transform=\"translate(0,123.82)\" d=\"M80,0h436\" style=\"stroke: rgb(225, 229, 237); stroke-opacity: 1; stroke-width: 1px;\"/></g></g><g class=\"zerolinelayer\"/><path class=\"xlines-below\"/><path class=\"ylines-below\"/><g class=\"overlines-below\"/><g class=\"xaxislayer-below\"/><g class=\"yaxislayer-below\"/><g class=\"overaxes-below\"/><g class=\"plot\" transform=\"translate(80, 100)\" clip-path=\"url('#clipd5f07axyplot')\"><g class=\"scatterlayer mlayer\"><g class=\"trace scatter trace1ac25e\" style=\"stroke-miterlimit: 2; opacity: 1;\"><g class=\"fills\"/><g class=\"errorbars\"/><g class=\"lines\"><path class=\"js-line\" d=\"M0,252.75L3.11,249.93L5.91,243.36L9.02,244.77L12.02,248.53L18.13,235.86L21.24,235.86L24.34,241.49L27.35,249.46L30.46,256.5L33.46,249.93L36.57,251.34L39.67,246.18L42.48,239.14L45.58,241.96L48.59,246.65L51.69,235.39L54.7,225.54L57.81,225.54L60.91,231.17L63.92,242.9L67.02,251.81L70.03,239.61L76.24,234.92L79.05,221.79L82.15,228.82L85.16,224.6L88.26,221.79L91.27,211.93L94.37,211.93L97.48,218.97L100.48,229.29L103.59,236.8L106.6,227.42L109.7,225.07L112.81,220.85L115.71,214.75L118.82,220.38L121.82,219.44L124.93,203.02L127.93,197.39L131.04,191.76L134.15,207.24L140.26,224.6L143.26,214.28L146.37,213.34L149.47,213.34L152.28,194.58L155.39,195.05L158.39,197.86L161.5,191.29L164.5,181.44L167.61,177.69L173.72,206.31L176.82,220.85L179.83,211L182.94,209.59L186.04,217.09L188.85,195.05L191.95,198.8L194.96,195.52L198.06,181.44L201.07,163.62L204.17,167.84L207.28,183.79L213.39,210.06L216.4,197.86L219.5,191.76L222.61,195.98L225.41,180.03L228.52,179.1L231.52,178.63L234.63,157.52L237.64,134.53L240.74,142.51L249.96,194.11L252.96,174.87L256.07,172.06L259.18,175.34L262.08,156.58L265.19,158.46L268.19,156.11L271.3,129.84L274.3,111.54L277.41,115.3L283.52,161.74L286.63,178.16L289.63,161.74L292.74,157.52L295.84,164.08L298.65,138.28L301.75,142.04L304.76,138.75L307.86,107.32L310.87,87.15L313.98,86.21L317.08,115.77L320.09,142.51L323.19,162.21L326.2,147.67L329.3,145.79L332.41,156.11L335.22,135.47L338.32,142.04L341.33,135L347.44,74.95L350.54,68.39L353.65,115.77L356.65,136.88L359.76,159.86L362.77,147.2L365.87,136.41L368.98,144.85L371.78,114.83L374.89,119.52L377.89,108.26L381,83.87L384,48.21L387.11,43.05L390.22,88.09L393.22,114.36L396.33,135.47L399.33,115.3L402.44,109.67L405.54,121.86L408.45,108.73L411.56,89.03L414.56,83.87L417.67,54.31L420.67,13.5L423.78,21.01L426.88,66.98L429.89,89.03L432.99,122.33L436,102.63\" style=\"vector-effect: non-scaling-stroke; fill: none; stroke: rgb(255, 153, 51); stroke-opacity: 1; stroke-width: 1.3px; opacity: 1;\"/></g><g class=\"points\"/><g class=\"text\"/></g><g class=\"trace scatter trace0ddc16\" style=\"stroke-miterlimit: 2; opacity: 1;\"><g class=\"fills\"/><g class=\"errorbars\"/><g class=\"lines\"><path class=\"js-line\" d=\"M9.02,247.7L12.02,246.65L15.13,244.65L24.34,238.79L27.35,240.67L30.46,245.83L33.46,249.35L36.57,251.81L39.67,250.99L42.48,246.65L45.58,244.65L48.59,243.48L51.69,240.78L60.91,229.41L63.92,231.29L67.02,237.85L70.03,241.37L73.13,242.9L76.24,240.9L79.05,233.4L82.15,230.7L94.37,217.56L97.48,216.16L100.48,218.03L103.59,224.25L106.6,228.12L109.7,229.64L112.81,227.53L115.71,222.02L121.82,218.85L124.93,214.4L127.93,210.06L131.04,202.9L134.15,199.85L137.15,203.02L143.26,215.45L146.37,216.98L149.47,216.39L152.28,208.89L161.5,194.69L164.5,191.41L167.61,187.07L170.71,186.13L173.72,189.89L176.82,199.74L179.83,208.06L182.94,211.93L186.04,214.63L188.85,208.18L194.96,201.61L198.06,192.7L204.17,177.1L207.28,174.17L210.29,178.28L213.39,189.89L216.4,197.39L219.5,199.39L222.61,198.92L225.41,191.41L231.52,183.44L234.63,173.82L240.74,153.3L243.85,148.37L246.85,153.18L249.96,168.07L252.96,176.16L256.07,179.45L259.18,179.1L262.08,169.71L268.19,161.62L271.3,150.25L277.41,128.2L280.51,123.86L283.52,131.83L286.63,148.49L289.63,160.1L292.74,164.79L295.84,165.38L298.65,155.41L304.76,145.79L307.86,131.6L313.98,104.86L317.08,99.11L320.09,107.91L323.19,126.67L326.2,142.04L329.3,149.54L332.41,152.94L335.22,146.26L338.32,144.85L341.33,142.15L347.44,113.3L350.54,94.89L353.65,90.08L356.65,99L362.77,139.93L365.87,145.09L368.98,147.08L371.78,135.82L377.89,121.86L381,106.62L387.11,70.85L390.22,65.81L393.22,73.43L396.33,95.24L399.33,113.3L402.44,118.7L405.54,120.57L408.45,113.89L414.56,100.87L417.67,83.98L420.67,60.18L423.78,43.17L426.88,38.95L429.89,47.63L436,95.24\" style=\"vector-effect: non-scaling-stroke; fill: none; stroke: rgb(55, 128, 191); stroke-opacity: 1; stroke-width: 1.3px; opacity: 1;\"/></g><g class=\"points\"/><g class=\"text\"/></g><g class=\"trace scatter trace8e173f\" style=\"stroke-miterlimit: 2; opacity: 1;\"><g class=\"fills\"/><g class=\"errorbars\"/><g class=\"lines\"><path class=\"js-line\" d=\"M21.24,244.13L24.34,242.72L27.35,242.66L30.46,244.3L33.46,244.95L45.58,247L48.59,247.65L51.69,245.89L54.7,242.02L60.91,236.45L63.92,236.03L67.02,237.62L70.03,237.33L73.13,236.15L76.24,236.09L79.05,235.62L82.15,236.03L85.16,235.21L88.26,232.58L91.27,227.59L94.37,224.13L97.48,221.84L100.48,221.14L103.59,223.02L106.6,222.84L115.71,223.13L118.82,224.19L121.82,224.25L124.93,220.96L131.04,211.58L134.15,209.35L137.15,208.71L140.26,209.94L146.37,208.42L149.47,209.71L152.28,209.35L155.39,209.76L158.39,208.59L161.5,205.54L167.61,195.57L170.71,193.17L173.72,192.29L176.82,195.57L182.94,199.03L186.04,202.26L191.95,206.6L194.96,206.77L198.06,203.67L201.07,196.51L204.17,191.12L207.28,187.89L210.29,185.49L213.39,187.36L219.5,186.78L222.61,188.6L228.52,192.06L231.52,191.41L234.63,186.37L237.64,176.93L240.74,170.01L243.85,165.9L246.85,163.5L249.96,165.26L256.07,163.91L259.18,166.14L265.19,170.89L268.19,170.54L271.3,164.67L274.3,154.35L277.41,146.9L280.51,142.74L283.52,141.04L286.63,143.74L292.74,144.32L295.84,148.6L301.75,155.29L304.76,155.29L307.86,148.49L310.87,137.11L313.98,127.67L317.08,122.45L320.09,119.75L323.19,122.74L329.3,124.33L332.41,130.43L338.32,143.44L341.33,145.85L344.43,140.69L347.44,129.78L350.54,119.87L353.65,116.12L356.65,113.71L359.76,116.76L365.87,117.58L368.98,123.04L374.89,134.41L377.89,133.48L381,126.85L384,112.89L387.11,99.88L390.22,93.84L393.22,90.02L396.33,92.6L402.44,92.25L405.54,97L408.45,104.57L411.56,110.31L414.56,109.79L417.67,102.28L420.67,87.03L423.78,75.25L429.89,65.81L432.99,67.51L436,69.21\" style=\"vector-effect: non-scaling-stroke; fill: none; stroke: rgb(50, 171, 96); stroke-opacity: 1; stroke-width: 1.3px; opacity: 1;\"/></g><g class=\"points\"/><g class=\"text\"/></g><g class=\"trace scatter trace8a02e0\" style=\"stroke-miterlimit: 2; opacity: 1;\"><g class=\"fills\"/><g class=\"errorbars\"/><g class=\"lines\"><path class=\"js-line\" d=\"M33.46,245.87L48.59,244.69L51.69,244.15L63.92,241.02L67.02,240.63L76.24,237.66L79.05,236.21L85.16,233.28L88.26,232.15L112.81,223.27L115.71,222.68L121.82,221.55L124.93,219.99L143.26,212.87L146.37,211.9L149.47,211.27L152.28,209.59L158.39,205.68L161.5,204.7L170.71,201.11L173.72,200.32L186.04,199.74L188.85,199.78L194.96,199.89L198.06,199.07L204.17,196.77L207.28,195.91L216.4,193.21L219.5,191.72L234.63,183.67L237.64,181.25L246.85,175.3L249.96,173.98L280.51,154.98L283.52,153.73L304.76,144.81L307.86,142.94L320.09,134.96L323.19,133.63L332.41,130.82L335.22,130.58L341.33,130.27L344.43,129.76L350.54,127.26L353.65,127.26L368.98,124.84L371.78,123.12L387.11,113.23L390.22,110.92L399.33,104.35L402.44,102.12L405.54,100.21L408.45,99.7L423.78,87.93L426.88,86.17L429.89,84.06L432.99,82.97L436,81.91\" style=\"vector-effect: non-scaling-stroke; fill: none; stroke: rgb(128, 0, 128); stroke-opacity: 1; stroke-width: 1.3px; opacity: 1;\"/></g><g class=\"points\"/><g class=\"text\"/></g></g></g><g class=\"overplot\"/><path class=\"xlines-above crisp\" style=\"fill: none;\" d=\"M0,0\"/><path class=\"ylines-above crisp\" style=\"fill: none;\" d=\"M0,0\"/><g class=\"overlines-above\"/><g class=\"xaxislayer-above\"><g class=\"xtick\"><text text-anchor=\"middle\" x=\"0\" y=\"383\" transform=\"translate(116.57,0)\" style=\"font-family: 'Open Sans', verdana, arial, sans-serif; font-size: 12px; fill: rgb(77, 86, 99); fill-opacity: 1; white-space: pre;\">1950</text></g><g class=\"xtick\"><text text-anchor=\"middle\" x=\"0\" y=\"383\" transform=\"translate(189.7,0)\" style=\"font-family: 'Open Sans', verdana, arial, sans-serif; font-size: 12px; fill: rgb(77, 86, 99); fill-opacity: 1; white-space: pre;\">1952</text></g><g class=\"xtick\"><text text-anchor=\"middle\" x=\"0\" y=\"383\" transform=\"translate(262.94,0)\" style=\"font-family: 'Open Sans', verdana, arial, sans-serif; font-size: 12px; fill: rgb(77, 86, 99); fill-opacity: 1; white-space: pre;\">1954</text></g><g class=\"xtick\"><text text-anchor=\"middle\" x=\"0\" y=\"383\" transform=\"translate(336.07,0)\" style=\"font-family: 'Open Sans', verdana, arial, sans-serif; font-size: 12px; fill: rgb(77, 86, 99); fill-opacity: 1; white-space: pre;\">1956</text></g><g class=\"xtick\"><text text-anchor=\"middle\" x=\"0\" y=\"383\" transform=\"translate(409.3,0)\" style=\"font-family: 'Open Sans', verdana, arial, sans-serif; font-size: 12px; fill: rgb(77, 86, 99); fill-opacity: 1; white-space: pre;\">1958</text></g><g class=\"xtick\"><text text-anchor=\"middle\" x=\"0\" y=\"383\" transform=\"translate(482.44,0)\" style=\"font-family: 'Open Sans', verdana, arial, sans-serif; font-size: 12px; fill: rgb(77, 86, 99); fill-opacity: 1; white-space: pre;\">1960</text></g></g><g class=\"yaxislayer-above\"><g class=\"ytick\"><text text-anchor=\"end\" x=\"79\" y=\"4.199999999999999\" transform=\"translate(0,358.38)\" style=\"font-family: 'Open Sans', verdana, arial, sans-serif; font-size: 12px; fill: rgb(77, 86, 99); fill-opacity: 1; white-space: pre;\">100</text></g><g class=\"ytick\"><text text-anchor=\"end\" x=\"79\" y=\"4.199999999999999\" transform=\"translate(0,311.47)\" style=\"font-family: 'Open Sans', verdana, arial, sans-serif; font-size: 12px; fill: rgb(77, 86, 99); fill-opacity: 1; white-space: pre;\">200</text></g><g class=\"ytick\"><text text-anchor=\"end\" x=\"79\" y=\"4.199999999999999\" transform=\"translate(0,264.55)\" style=\"font-family: 'Open Sans', verdana, arial, sans-serif; font-size: 12px; fill: rgb(77, 86, 99); fill-opacity: 1; white-space: pre;\">300</text></g><g class=\"ytick\"><text text-anchor=\"end\" x=\"79\" y=\"4.199999999999999\" transform=\"translate(0,217.64)\" style=\"font-family: 'Open Sans', verdana, arial, sans-serif; font-size: 12px; fill: rgb(77, 86, 99); fill-opacity: 1; white-space: pre;\">400</text></g><g class=\"ytick\"><text text-anchor=\"end\" x=\"79\" y=\"4.199999999999999\" transform=\"translate(0,170.73000000000002)\" style=\"font-family: 'Open Sans', verdana, arial, sans-serif; font-size: 12px; fill: rgb(77, 86, 99); fill-opacity: 1; white-space: pre;\">500</text></g><g class=\"ytick\"><text text-anchor=\"end\" x=\"79\" y=\"4.199999999999999\" transform=\"translate(0,123.82)\" style=\"font-family: 'Open Sans', verdana, arial, sans-serif; font-size: 12px; fill: rgb(77, 86, 99); fill-opacity: 1; white-space: pre;\">600</text></g></g><g class=\"overaxes-above\"/></g></g><g class=\"polarlayer\"/><g class=\"ternarylayer\"/><g class=\"geolayer\"/><g class=\"funnelarealayer\"/><g class=\"pielayer\"/><g class=\"treemaplayer\"/><g class=\"sunburstlayer\"/><g class=\"glimages\"/><defs id=\"topdefs-d5f07a\"><g class=\"clips\"/><clipPath id=\"legendd5f07a\"><rect width=\"163\" height=\"86\" x=\"0\" y=\"0\"/></clipPath></defs><g class=\"layer-above\"><g class=\"imagelayer\"/><g class=\"shapelayer\"/></g><g class=\"infolayer\"><g class=\"legend\" pointer-events=\"all\" transform=\"translate(524.72, 100)\"><rect class=\"bg\" shape-rendering=\"crispEdges\" style=\"stroke: rgb(68, 68, 68); stroke-opacity: 1; fill: rgb(245, 246, 249); fill-opacity: 1; stroke-width: 0px;\" width=\"163\" height=\"86\" x=\"0\" y=\"0\"/><g class=\"scrollbox\" transform=\"translate(0, 0)\" clip-path=\"url('#legendd5f07a')\"><g class=\"groups\"><g class=\"traces\" style=\"opacity: 1;\" transform=\"translate(0, 14.5)\"><text class=\"legendtext user-select-none\" text-anchor=\"start\" x=\"40\" y=\"4.680000000000001\" style=\"font-family: 'Open Sans', verdana, arial, sans-serif; font-size: 12px; fill: rgb(77, 86, 99); fill-opacity: 1; white-space: pre;\">Passengers</text><g class=\"layers\" style=\"opacity: 1;\"><g class=\"legendfill\"/><g class=\"legendlines\"><path class=\"js-line\" d=\"M5,0h30\" style=\"fill: none; stroke: rgb(255, 153, 51); stroke-opacity: 1; stroke-width: 1.3px;\"/></g><g class=\"legendsymbols\"><g class=\"legendpoints\"/></g></g><rect class=\"legendtoggle\" pointer-events=\"all\" x=\"0\" y=\"-9.5\" width=\"157.09375\" height=\"19\" style=\"cursor: pointer; fill: rgb(0, 0, 0); fill-opacity: 0;\"/></g><g class=\"traces\" style=\"opacity: 1;\" transform=\"translate(0, 33.5)\"><text class=\"legendtext user-select-none\" text-anchor=\"start\" x=\"40\" y=\"4.680000000000001\" style=\"font-family: 'Open Sans', verdana, arial, sans-serif; font-size: 12px; fill: rgb(77, 86, 99); fill-opacity: 1; white-space: pre;\">SMA_Passengers4</text><g class=\"layers\" style=\"opacity: 1;\"><g class=\"legendfill\"/><g class=\"legendlines\"><path class=\"js-line\" d=\"M5,0h30\" style=\"fill: none; stroke: rgb(55, 128, 191); stroke-opacity: 1; stroke-width: 1.3px;\"/></g><g class=\"legendsymbols\"><g class=\"legendpoints\"/></g></g><rect class=\"legendtoggle\" pointer-events=\"all\" x=\"0\" y=\"-9.5\" width=\"157.09375\" height=\"19\" style=\"cursor: pointer; fill: rgb(0, 0, 0); fill-opacity: 0;\"/></g><g class=\"traces\" style=\"opacity: 1;\" transform=\"translate(0, 52.5)\"><text class=\"legendtext user-select-none\" text-anchor=\"start\" x=\"40\" y=\"4.680000000000001\" style=\"font-family: 'Open Sans', verdana, arial, sans-serif; font-size: 12px; fill: rgb(77, 86, 99); fill-opacity: 1; white-space: pre;\">SMA_Passengers8</text><g class=\"layers\" style=\"opacity: 1;\"><g class=\"legendfill\"/><g class=\"legendlines\"><path class=\"js-line\" d=\"M5,0h30\" style=\"fill: none; stroke: rgb(50, 171, 96); stroke-opacity: 1; stroke-width: 1.3px;\"/></g><g class=\"legendsymbols\"><g class=\"legendpoints\"/></g></g><rect class=\"legendtoggle\" pointer-events=\"all\" x=\"0\" y=\"-9.5\" width=\"157.09375\" height=\"19\" style=\"cursor: pointer; fill: rgb(0, 0, 0); fill-opacity: 0;\"/></g><g class=\"traces\" style=\"opacity: 1;\" transform=\"translate(0, 71.5)\"><text class=\"legendtext user-select-none\" text-anchor=\"start\" x=\"40\" y=\"4.680000000000001\" style=\"font-family: 'Open Sans', verdana, arial, sans-serif; font-size: 12px; fill: rgb(77, 86, 99); fill-opacity: 1; white-space: pre;\">SMA_Passengers12</text><g class=\"layers\" style=\"opacity: 1;\"><g class=\"legendfill\"/><g class=\"legendlines\"><path class=\"js-line\" d=\"M5,0h30\" style=\"fill: none; stroke: rgb(128, 0, 128); stroke-opacity: 1; stroke-width: 1.3px;\"/></g><g class=\"legendsymbols\"><g class=\"legendpoints\"/></g></g><rect class=\"legendtoggle\" pointer-events=\"all\" x=\"0\" y=\"-9.5\" width=\"157.09375\" height=\"19\" style=\"cursor: pointer; fill: rgb(0, 0, 0); fill-opacity: 0;\"/></g></g></g><rect class=\"scrollbar\" rx=\"20\" ry=\"3\" width=\"0\" height=\"0\" style=\"fill: rgb(128, 139, 164); fill-opacity: 1;\" x=\"0\" y=\"0\"/></g><g class=\"g-gtitle\"><text class=\"gtitle\" x=\"35\" y=\"50\" text-anchor=\"start\" dy=\"0em\" style=\"font-family: 'Open Sans', verdana, arial, sans-serif; font-size: 17px; fill: rgb(77, 86, 99); opacity: 1; font-weight: normal; white-space: pre;\">澳洲航空乘客数量月度数量趋势</text></g><g class=\"g-xtitle\"><text class=\"xtitle\" x=\"298\" y=\"410.3\" text-anchor=\"middle\" style=\"font-family: 'Open Sans', verdana, arial, sans-serif; font-size: 14px; fill: rgb(77, 86, 99); opacity: 1; font-weight: normal; white-space: pre;\">时间</text></g><g class=\"g-ytitle\"><text class=\"ytitle\" transform=\"rotate(-90,31.309375000000003,235)\" x=\"31.309375000000003\" y=\"235\" text-anchor=\"middle\" style=\"font-family: 'Open Sans', verdana, arial, sans-serif; font-size: 14px; fill: rgb(77, 86, 99); opacity: 1; font-weight: normal; white-space: pre;\">乘客数量</text></g></g></svg>"
      ]
     },
     "metadata": {},
     "output_type": "display_data"
    }
   ],
   "source": [
    "sma_fig = sma_data.iplot(asFigure=True, xTitle=\"时间\",yTitle=\"乘客数量\", title=\"澳洲航空乘客数量月度数量趋势\")\n",
    "sma_fig.show('svg')\n",
    "#sma_fig.show()\n"
   ]
  },
  {
   "cell_type": "markdown",
   "metadata": {},
   "source": [
    "## 参考资料\n",
    "\n",
    "* [pandas --移动窗口rolling的概念](https://blog.csdn.net/maymay_/article/details/80241627)\n"
   ]
  }
 ],
 "metadata": {
  "kernelspec": {
   "display_name": "Python 3",
   "language": "python",
   "name": "python3"
  },
  "language_info": {
   "codemirror_mode": {
    "name": "ipython",
    "version": 3
   },
   "file_extension": ".py",
   "mimetype": "text/x-python",
   "name": "python",
   "nbconvert_exporter": "python",
   "pygments_lexer": "ipython3",
   "version": "3.7.6"
  },
  "varInspector": {
   "cols": {
    "lenName": 16,
    "lenType": 16,
    "lenVar": 40
   },
   "kernels_config": {
    "python": {
     "delete_cmd_postfix": "",
     "delete_cmd_prefix": "del ",
     "library": "var_list.py",
     "varRefreshCmd": "print(var_dic_list())"
    },
    "r": {
     "delete_cmd_postfix": ") ",
     "delete_cmd_prefix": "rm(",
     "library": "var_list.r",
     "varRefreshCmd": "cat(var_dic_list()) "
    }
   },
   "types_to_exclude": [
    "module",
    "function",
    "builtin_function_or_method",
    "instance",
    "_Feature"
   ],
   "window_display": false
  }
 },
 "nbformat": 4,
 "nbformat_minor": 4
}
